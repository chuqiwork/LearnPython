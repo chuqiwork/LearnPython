{
  "cells": [
    {
      "cell_type": "code",
      "execution_count": null,
      "id": "uwb-0uBbvL8K",
      "metadata": {
        "colab": {
          "base_uri": "https://localhost:8080/"
        },
        "collapsed": true,
        "id": "uwb-0uBbvL8K",
        "outputId": "2c1081c0-caaf-412a-e658-776bcc366d11"
      },
      "outputs": [],
      "source": [
        "!pip install akshare numpy pandas"
      ]
    }
  ],
  "metadata": {
    "colab": {
      "provenance": []
    },
    "kernelspec": {
      "display_name": "Python 3",
      "name": "python3"
    },
    "language_info": {
      "name": "python"
    }
  },
  "nbformat": 4,
  "nbformat_minor": 5
}
