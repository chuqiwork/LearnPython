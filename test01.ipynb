{
  "cells": [
    {
      "cell_type": "code",
      "execution_count": null,
      "id": "uwb-0uBbvL8K",
      "metadata": {
        "colab": {
          "base_uri": "https://localhost:8080/"
        },
        "collapsed": true,
        "id": "uwb-0uBbvL8K",
        "outputId": "2c1081c0-caaf-412a-e658-776bcc366d11"
      },
      "outputs": [],
      "source": [
        "!pip install git+https://github.com/edtechre/pybroker.git"
      ]
    },
    {
      "cell_type": "code",
      "execution_count": null,
      "id": "UZAZLbVlPCeO",
      "metadata": {
        "colab": {
          "base_uri": "https://localhost:8080/"
        },
        "collapsed": true,
        "id": "UZAZLbVlPCeO",
        "outputId": "680c125c-b139-47c0-f7ab-573638d40e36"
      },
      "outputs": [],
      "source": [
        "!pip install akshare numpy pandas"
      ]
    },
    {
      "cell_type": "code",
      "execution_count": 4,
      "id": "U-79yjdiwOtn",
      "metadata": {
        "colab": {
          "base_uri": "https://localhost:8080/"
        },
        "id": "U-79yjdiwOtn",
        "outputId": "6cfe14b7-ad93-40ef-fdda-274f81f075df"
      },
      "outputs": [
        {
          "name": "stdout",
          "output_type": "stream",
          "text": [
            "1.2.10\n",
            "Python 3.11.12\n"
          ]
        }
      ],
      "source": [
        "import pybroker\n",
        "print(pybroker.__version__)  # 若无版本号，说明安装可能有问题\n",
        "!python --version"
      ]
    },
    {
      "cell_type": "code",
      "execution_count": 6,
      "id": "DCL6KsAUOl7y",
      "metadata": {
        "colab": {
          "base_uri": "https://localhost:8080/"
        },
        "id": "DCL6KsAUOl7y",
        "outputId": "d0912b82-9b84-4ae4-f900-4665578a851d"
      },
      "outputs": [
        {
          "name": "stdout",
          "output_type": "stream",
          "text": [
            "Backtesting: 2023-01-01 00:00:00 to 2023-12-31 00:00:00\n",
            "\n",
            "Loading bar data...\n",
            "Loaded bar data: 0:00:01 \n",
            "\n",
            "Test split: 2023-01-03 00:00:00 to 2023-12-29 00:00:00\n"
          ]
        },
        {
          "name": "stderr",
          "output_type": "stream",
          "text": [
            "\u001b[38;2;0;255;0m100%\u001b[39m \u001b[38;2;0;255;0m(242 of 242)\u001b[39m |######################| Elapsed Time: 0:00:00 Time:  0:00:00\n"
          ]
        },
        {
          "name": "stdout",
          "output_type": "stream",
          "text": [
            "\n",
            "Finished backtest: 0:00:01\n",
            "总收益:                       name                value\n",
            "0              trade_count                   28\n",
            "1     initial_market_value              20000.0\n",
            "2         end_market_value              19466.0\n",
            "3                total_pnl               -540.0\n",
            "4           unrealized_pnl                  6.0\n",
            "5         total_return_pct                 -2.7\n",
            "6             total_profit                674.0\n",
            "7               total_loss              -1214.0\n",
            "8               total_fees                  0.0\n",
            "9             max_drawdown               -774.0\n",
            "10        max_drawdown_pct            -3.839667\n",
            "11       max_drawdown_date  2023-12-13 00:00:00\n",
            "12                win_rate            32.142857\n",
            "13               loss_rate            67.857143\n",
            "14          winning_trades                    9\n",
            "15           losing_trades                   19\n",
            "16                 avg_pnl           -19.285714\n",
            "17          avg_return_pct            -0.405357\n",
            "18          avg_trade_bars             3.035714\n",
            "19              avg_profit            74.888889\n",
            "20          avg_profit_pct             1.535556\n",
            "21  avg_winning_trade_bars             4.333333\n",
            "22                avg_loss           -63.894737\n",
            "23            avg_loss_pct            -1.324737\n",
            "24   avg_losing_trade_bars             2.421053\n",
            "25             largest_win                255.0\n",
            "26         largest_win_pct                 5.17\n",
            "27        largest_win_bars                    6\n",
            "28            largest_loss               -161.0\n",
            "29        largest_loss_pct                -3.21\n",
            "30       largest_loss_bars                    3\n",
            "31                max_wins                    2\n",
            "32              max_losses                    8\n",
            "33                  sharpe            -0.048603\n",
            "34                 sortino            -0.048004\n",
            "35           profit_factor             0.819473\n",
            "36             ulcer_index             0.666944\n",
            "37                     upi            -0.016436\n",
            "38               equity_r2             0.497695\n",
            "39               std_error           170.811882\n",
            "交易记录:\n",
            "     type     symbol entry_date  exit_date  entry   exit  shares    pnl  \\\n",
            "id                                                                       \n",
            "1   long  601318.SH 2023-01-12 2023-01-18  50.77  51.52     100   75.0   \n",
            "2   long  601318.SH 2023-01-30 2023-01-31  52.54  51.56     100  -98.0   \n",
            "3   long  601318.SH 2023-02-10 2023-02-16  49.28  49.52     100   24.0   \n",
            "4   long  601318.SH 2023-02-21 2023-02-23  49.78  49.26     100  -52.0   \n",
            "5   long  601318.SH 2023-03-02 2023-03-07  50.09  48.48     100 -161.0   \n",
            "6   long  601318.SH 2023-03-20 2023-03-21  46.07  46.09     100    2.0   \n",
            "7   long  601318.SH 2023-03-22 2023-03-27  46.50  45.92     100  -58.0   \n",
            "8   long  601318.SH 2023-04-04 2023-04-07  45.54  45.46     100   -8.0   \n",
            "9   long  601318.SH 2023-04-10 2023-04-13  45.89  45.09     100  -80.0   \n",
            "10  long  601318.SH 2023-04-18 2023-04-24  48.10  46.98     100 -112.0   \n",
            "11  long  601318.SH 2023-04-28 2023-05-10  51.46  52.98     100  152.0   \n",
            "12  long  601318.SH 2023-05-16 2023-05-18  53.31  52.19     100 -112.0   \n",
            "13  long  601318.SH 2023-06-05 2023-06-15  48.58  48.48     100  -10.0   \n",
            "14  long  601318.SH 2023-06-29 2023-06-30  46.46  46.53     100    7.0   \n",
            "15  long  601318.SH 2023-07-03 2023-07-07  47.36  47.33     100   -3.0   \n",
            "16  long  601318.SH 2023-07-12 2023-07-19  47.52  47.58     100    6.0   \n",
            "17  long  601318.SH 2023-07-26 2023-08-03  49.31  51.86     100  255.0   \n",
            "18  long  601318.SH 2023-08-04 2023-08-07  52.88  51.48     100 -140.0   \n",
            "19  long  601318.SH 2023-08-28 2023-09-08  49.16  50.12     100   96.0   \n",
            "20  long  601318.SH 2023-09-25 2023-09-26  49.56  48.93     100  -63.0   \n",
            "21  long  601318.SH 2023-10-13 2023-10-17  47.98  47.72     100  -26.0   \n",
            "22  long  601318.SH 2023-11-01 2023-11-02  45.45  45.30     100  -15.0   \n",
            "23  long  601318.SH 2023-11-06 2023-11-08  45.84  44.99     100  -85.0   \n",
            "24  long  601318.SH 2023-11-16 2023-11-20  43.06  42.76     100  -30.0   \n",
            "25  long  601318.SH 2023-11-21 2023-11-23  43.23  42.78     100  -45.0   \n",
            "26  long  601318.SH 2023-11-24 2023-11-27  42.83  42.12     100  -71.0   \n",
            "27  long  601318.SH 2023-12-12 2023-12-14  39.53  39.08     100  -45.0   \n",
            "28  long  601318.SH 2023-12-22 2023-12-28  39.03  39.60     100   57.0   \n",
            "\n",
            "    return_pct  agg_pnl  bars  pnl_per_bar  stop   mae   mfe  \n",
            "id                                                            \n",
            "1         1.48     75.0     4        18.75  None -0.34  2.71  \n",
            "2        -1.87    -23.0     1       -98.00  None -1.06  1.06  \n",
            "3         0.49      1.0     4         6.00  None -0.99  0.62  \n",
            "4        -1.04    -51.0     2       -26.00  None -0.67  0.34  \n",
            "5        -3.21   -212.0     3       -53.67  None -1.64  0.57  \n",
            "6         0.04   -210.0     1         2.00  None -0.51  0.51  \n",
            "7        -1.25   -268.0     3       -19.33  None -0.58  0.39  \n",
            "8        -0.18   -276.0     2        -4.00  None -0.51  0.32  \n",
            "9        -1.74   -356.0     3       -26.67  None -0.80  0.41  \n",
            "10       -2.33   -468.0     4       -28.00  None -1.47  0.98  \n",
            "11        2.95   -316.0     5        30.40  None -1.18  4.54  \n",
            "12       -2.10   -428.0     2       -56.00  None -1.73  0.51  \n",
            "13       -0.21   -438.0     8        -1.25  None -0.71  1.38  \n",
            "14        0.15   -431.0     1         7.00  None -0.33  0.33  \n",
            "15       -0.06   -434.0     4        -0.75  None -0.98  0.99  \n",
            "16        0.13   -428.0     5         1.20  None -0.44  1.57  \n",
            "17        5.17   -173.0     6        42.50  None -0.33  4.37  \n",
            "18       -2.65   -313.0     1      -140.00  None -1.40  0.97  \n",
            "19        1.95   -217.0     9        10.67  None -1.38  2.74  \n",
            "20       -1.27   -280.0     1       -63.00  None -0.63  0.54  \n",
            "21       -0.54   -306.0     2       -13.00  None -0.57  0.30  \n",
            "22       -0.33   -321.0     1       -15.00  None -0.43  0.43  \n",
            "23       -1.85   -406.0     2       -42.50  None -0.85  0.33  \n",
            "24       -0.70   -436.0     2       -15.00  None -0.73  0.29  \n",
            "25       -1.04   -481.0     2       -22.50  None -0.52  0.32  \n",
            "26       -1.66   -552.0     1       -71.00  None -0.71  0.20  \n",
            "27       -1.14   -597.0     2       -22.50  None -0.64  0.28  \n",
            "28        1.46   -540.0     4        14.25  None -0.35  0.57  \n"
          ]
        }
      ],
      "source": [
        "from pybroker import Strategy, StrategyConfig\n",
        "from pybroker.ext.data import AKShare\n",
        "import pandas as pd\n",
        "\n",
        "# 策略逻辑：收盘价上穿/下穿5日均线\n",
        "def handle_data(ctx):\n",
        "    symbol = ctx.symbol\n",
        "    close = ctx.close\n",
        "\n",
        "    if len(close) < 6:\n",
        "        return\n",
        "\n",
        "    # 使用 Pandas 计算 5 日均线\n",
        "    ma5_series = pd.Series(close).rolling(window=5).mean()\n",
        "    ma5 = ma5_series.values\n",
        "\n",
        "    # 获取持仓情况（注意 pos_type 应为 \"long\"）\n",
        "    position = ctx.pos(symbol, \"long\")\n",
        "    has_position = position and position.shares > 0\n",
        "\n",
        "    # 上穿5日均线，买入\n",
        "    if close[-1] > ma5[-1] and close[-2] <= ma5[-2]:\n",
        "        if not has_position:\n",
        "            ctx.buy_shares = 100\n",
        "\n",
        "    # 下穿5日均线，卖出\n",
        "    elif close[-1] < ma5[-1] and close[-2] >= ma5[-2]:\n",
        "        if has_position:\n",
        "            ctx.sell_all_shares()\n",
        "\n",
        "# 初始化数据源\n",
        "data_source = AKShare()\n",
        "\n",
        "# 创建策略对象\n",
        "strategy = Strategy(\n",
        "    data_source,\n",
        "    start_date=\"2023-01-01\",\n",
        "    end_date=\"2023-12-31\",\n",
        "    config=StrategyConfig(initial_cash=20000)\n",
        ")\n",
        "\n",
        "# 添加策略逻辑\n",
        "strategy.add_execution(handle_data, symbols=[\"601318.SH\"])  # 中国平安（上交所代码）\n",
        "\n",
        "# 执行回测\n",
        "result = strategy.backtest()\n"
      ]
    },
    {
      "cell_type": "code",
      "execution_count": 10,
      "id": "OWtJD2MeaAoK",
      "metadata": {
        "colab": {
          "base_uri": "https://localhost:8080/"
        },
        "id": "OWtJD2MeaAoK",
        "outputId": "ea47fab8-e2c0-4f26-f43b-f0cb124ccd55"
      },
      "outputs": [
        {
          "name": "stdout",
          "output_type": "stream",
          "text": [
            "总收益:         name  value\n",
            "3  total_pnl -540.0\n",
            "交易记录:\n",
            "     type     symbol entry_date  exit_date  entry   exit  shares    pnl  \\\n",
            "id                                                                       \n",
            "1   long  601318.SH 2023-01-12 2023-01-18  50.77  51.52     100   75.0   \n",
            "2   long  601318.SH 2023-01-30 2023-01-31  52.54  51.56     100  -98.0   \n",
            "3   long  601318.SH 2023-02-10 2023-02-16  49.28  49.52     100   24.0   \n",
            "4   long  601318.SH 2023-02-21 2023-02-23  49.78  49.26     100  -52.0   \n",
            "5   long  601318.SH 2023-03-02 2023-03-07  50.09  48.48     100 -161.0   \n",
            "6   long  601318.SH 2023-03-20 2023-03-21  46.07  46.09     100    2.0   \n",
            "7   long  601318.SH 2023-03-22 2023-03-27  46.50  45.92     100  -58.0   \n",
            "8   long  601318.SH 2023-04-04 2023-04-07  45.54  45.46     100   -8.0   \n",
            "9   long  601318.SH 2023-04-10 2023-04-13  45.89  45.09     100  -80.0   \n",
            "10  long  601318.SH 2023-04-18 2023-04-24  48.10  46.98     100 -112.0   \n",
            "11  long  601318.SH 2023-04-28 2023-05-10  51.46  52.98     100  152.0   \n",
            "12  long  601318.SH 2023-05-16 2023-05-18  53.31  52.19     100 -112.0   \n",
            "13  long  601318.SH 2023-06-05 2023-06-15  48.58  48.48     100  -10.0   \n",
            "14  long  601318.SH 2023-06-29 2023-06-30  46.46  46.53     100    7.0   \n",
            "15  long  601318.SH 2023-07-03 2023-07-07  47.36  47.33     100   -3.0   \n",
            "16  long  601318.SH 2023-07-12 2023-07-19  47.52  47.58     100    6.0   \n",
            "17  long  601318.SH 2023-07-26 2023-08-03  49.31  51.86     100  255.0   \n",
            "18  long  601318.SH 2023-08-04 2023-08-07  52.88  51.48     100 -140.0   \n",
            "19  long  601318.SH 2023-08-28 2023-09-08  49.16  50.12     100   96.0   \n",
            "20  long  601318.SH 2023-09-25 2023-09-26  49.56  48.93     100  -63.0   \n",
            "21  long  601318.SH 2023-10-13 2023-10-17  47.98  47.72     100  -26.0   \n",
            "22  long  601318.SH 2023-11-01 2023-11-02  45.45  45.30     100  -15.0   \n",
            "23  long  601318.SH 2023-11-06 2023-11-08  45.84  44.99     100  -85.0   \n",
            "24  long  601318.SH 2023-11-16 2023-11-20  43.06  42.76     100  -30.0   \n",
            "25  long  601318.SH 2023-11-21 2023-11-23  43.23  42.78     100  -45.0   \n",
            "26  long  601318.SH 2023-11-24 2023-11-27  42.83  42.12     100  -71.0   \n",
            "27  long  601318.SH 2023-12-12 2023-12-14  39.53  39.08     100  -45.0   \n",
            "28  long  601318.SH 2023-12-22 2023-12-28  39.03  39.60     100   57.0   \n",
            "\n",
            "    return_pct  agg_pnl  bars  pnl_per_bar  stop   mae   mfe  \n",
            "id                                                            \n",
            "1         1.48     75.0     4        18.75  None -0.34  2.71  \n",
            "2        -1.87    -23.0     1       -98.00  None -1.06  1.06  \n",
            "3         0.49      1.0     4         6.00  None -0.99  0.62  \n",
            "4        -1.04    -51.0     2       -26.00  None -0.67  0.34  \n",
            "5        -3.21   -212.0     3       -53.67  None -1.64  0.57  \n",
            "6         0.04   -210.0     1         2.00  None -0.51  0.51  \n",
            "7        -1.25   -268.0     3       -19.33  None -0.58  0.39  \n",
            "8        -0.18   -276.0     2        -4.00  None -0.51  0.32  \n",
            "9        -1.74   -356.0     3       -26.67  None -0.80  0.41  \n",
            "10       -2.33   -468.0     4       -28.00  None -1.47  0.98  \n",
            "11        2.95   -316.0     5        30.40  None -1.18  4.54  \n",
            "12       -2.10   -428.0     2       -56.00  None -1.73  0.51  \n",
            "13       -0.21   -438.0     8        -1.25  None -0.71  1.38  \n",
            "14        0.15   -431.0     1         7.00  None -0.33  0.33  \n",
            "15       -0.06   -434.0     4        -0.75  None -0.98  0.99  \n",
            "16        0.13   -428.0     5         1.20  None -0.44  1.57  \n",
            "17        5.17   -173.0     6        42.50  None -0.33  4.37  \n",
            "18       -2.65   -313.0     1      -140.00  None -1.40  0.97  \n",
            "19        1.95   -217.0     9        10.67  None -1.38  2.74  \n",
            "20       -1.27   -280.0     1       -63.00  None -0.63  0.54  \n",
            "21       -0.54   -306.0     2       -13.00  None -0.57  0.30  \n",
            "22       -0.33   -321.0     1       -15.00  None -0.43  0.43  \n",
            "23       -1.85   -406.0     2       -42.50  None -0.85  0.33  \n",
            "24       -0.70   -436.0     2       -15.00  None -0.73  0.29  \n",
            "25       -1.04   -481.0     2       -22.50  None -0.52  0.32  \n",
            "26       -1.66   -552.0     1       -71.00  None -0.71  0.20  \n",
            "27       -1.14   -597.0     2       -22.50  None -0.64  0.28  \n",
            "28        1.46   -540.0     4        14.25  None -0.35  0.57  \n"
          ]
        }
      ],
      "source": [
        "# 输出结果\n",
        "print(\"总收益:\", result.metrics_df[result.metrics_df['name'] == 'total_pnl'])\n",
        "print(\"交易记录:\\n\", result.trades)"
      ]
    }
  ],
  "metadata": {
    "colab": {
      "provenance": []
    },
    "kernelspec": {
      "display_name": "Python 3",
      "name": "python3"
    },
    "language_info": {
      "name": "python"
    }
  },
  "nbformat": 4,
  "nbformat_minor": 5
}
