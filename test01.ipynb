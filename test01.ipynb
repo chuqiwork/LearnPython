{
  "cells": [
    {
      "cell_type": "code",
      "source": [
        "!pip install git+https://github.com/edtechre/pybroker.git"
      ],
      "metadata": {
        "id": "uwb-0uBbvL8K",
        "outputId": "1d3e4c5c-8558-4aa9-fc93-13f586f4c894",
        "colab": {
          "base_uri": "https://localhost:8080/"
        }
      },
      "id": "uwb-0uBbvL8K",
      "execution_count": 2,
      "outputs": [
        {
          "output_type": "stream",
          "name": "stdout",
          "text": [
            "Collecting git+https://github.com/edtechre/pybroker.git\n",
            "  Cloning https://github.com/edtechre/pybroker.git to /tmp/pip-req-build-sqffjx0r\n",
            "  Running command git clone --filter=blob:none --quiet https://github.com/edtechre/pybroker.git /tmp/pip-req-build-sqffjx0r\n",
            "  Resolved https://github.com/edtechre/pybroker.git to commit d40b5b02993b64608b4ce1a6ba810976c1410665\n",
            "  Installing build dependencies ... \u001b[?25l\u001b[?25hdone\n",
            "  Getting requirements to build wheel ... \u001b[?25l\u001b[?25hdone\n",
            "  Preparing metadata (pyproject.toml) ... \u001b[?25l\u001b[?25hdone\n",
            "Collecting akshare<2,>=1.10.1 (from lib-pybroker==1.2.10)\n",
            "  Downloading akshare-1.16.91-py3-none-any.whl.metadata (11 kB)\n",
            "Collecting alpaca-py<1,>=0.7.2 (from lib-pybroker==1.2.10)\n",
            "  Downloading alpaca_py-0.40.0-py3-none-any.whl.metadata (13 kB)\n",
            "Collecting diskcache<6,>=5.4.0 (from lib-pybroker==1.2.10)\n",
            "  Downloading diskcache-5.6.3-py3-none-any.whl.metadata (20 kB)\n",
            "Requirement already satisfied: joblib<2,>=1.2.0 in /usr/local/lib/python3.11/dist-packages (from lib-pybroker==1.2.10) (1.5.0)\n",
            "Requirement already satisfied: numba<1,>=0.60.0 in /usr/local/lib/python3.11/dist-packages (from lib-pybroker==1.2.10) (0.60.0)\n",
            "Requirement already satisfied: numpy<3,>=1.26.4 in /usr/local/lib/python3.11/dist-packages (from lib-pybroker==1.2.10) (2.0.2)\n",
            "Requirement already satisfied: pandas<3,>=2.2.0 in /usr/local/lib/python3.11/dist-packages (from lib-pybroker==1.2.10) (2.2.2)\n",
            "Requirement already satisfied: progressbar2<5,>=4.1.1 in /usr/local/lib/python3.11/dist-packages (from lib-pybroker==1.2.10) (4.5.0)\n",
            "Collecting yahooquery<3,>=2.3.7 (from lib-pybroker==1.2.10)\n",
            "  Downloading yahooquery-2.4.0-py3-none-any.whl.metadata (4.8 kB)\n",
            "Requirement already satisfied: yfinance<1,>=0.2.55 in /usr/local/lib/python3.11/dist-packages (from lib-pybroker==1.2.10) (0.2.59)\n",
            "Requirement already satisfied: aiohttp>=3.11.13 in /usr/local/lib/python3.11/dist-packages (from akshare<2,>=1.10.1->lib-pybroker==1.2.10) (3.11.15)\n",
            "Requirement already satisfied: beautifulsoup4>=4.9.1 in /usr/local/lib/python3.11/dist-packages (from akshare<2,>=1.10.1->lib-pybroker==1.2.10) (4.13.4)\n",
            "Requirement already satisfied: lxml>=4.2.1 in /usr/local/lib/python3.11/dist-packages (from akshare<2,>=1.10.1->lib-pybroker==1.2.10) (5.4.0)\n",
            "Requirement already satisfied: requests>=2.22.0 in /usr/local/lib/python3.11/dist-packages (from akshare<2,>=1.10.1->lib-pybroker==1.2.10) (2.32.3)\n",
            "Requirement already satisfied: html5lib>=1.0.1 in /usr/local/lib/python3.11/dist-packages (from akshare<2,>=1.10.1->lib-pybroker==1.2.10) (1.1)\n",
            "Requirement already satisfied: xlrd>=1.2.0 in /usr/local/lib/python3.11/dist-packages (from akshare<2,>=1.10.1->lib-pybroker==1.2.10) (2.0.1)\n",
            "Requirement already satisfied: urllib3>=1.25.8 in /usr/local/lib/python3.11/dist-packages (from akshare<2,>=1.10.1->lib-pybroker==1.2.10) (2.4.0)\n",
            "Requirement already satisfied: tqdm>=4.43.0 in /usr/local/lib/python3.11/dist-packages (from akshare<2,>=1.10.1->lib-pybroker==1.2.10) (4.67.1)\n",
            "Requirement already satisfied: openpyxl>=3.0.3 in /usr/local/lib/python3.11/dist-packages (from akshare<2,>=1.10.1->lib-pybroker==1.2.10) (3.1.5)\n",
            "Collecting jsonpath>=0.82 (from akshare<2,>=1.10.1->lib-pybroker==1.2.10)\n",
            "  Downloading jsonpath-0.82.2.tar.gz (10 kB)\n",
            "  Preparing metadata (setup.py) ... \u001b[?25l\u001b[?25hdone\n",
            "Requirement already satisfied: tabulate>=0.8.6 in /usr/local/lib/python3.11/dist-packages (from akshare<2,>=1.10.1->lib-pybroker==1.2.10) (0.9.0)\n",
            "Requirement already satisfied: decorator>=4.4.2 in /usr/local/lib/python3.11/dist-packages (from akshare<2,>=1.10.1->lib-pybroker==1.2.10) (4.4.2)\n",
            "Requirement already satisfied: nest_asyncio>=1.6.0 in /usr/local/lib/python3.11/dist-packages (from akshare<2,>=1.10.1->lib-pybroker==1.2.10) (1.6.0)\n",
            "Collecting py-mini-racer>=0.6.0 (from akshare<2,>=1.10.1->lib-pybroker==1.2.10)\n",
            "  Downloading py_mini_racer-0.6.0-py2.py3-none-manylinux1_x86_64.whl.metadata (8.7 kB)\n",
            "Collecting akracer>=0.0.13 (from akracer[py-mini-racer]>=0.0.13; platform_system == \"Linux\"->akshare<2,>=1.10.1->lib-pybroker==1.2.10)\n",
            "  Downloading akracer-0.0.13-py3-none-any.whl.metadata (2.8 kB)\n",
            "Requirement already satisfied: msgpack<2.0.0,>=1.0.3 in /usr/local/lib/python3.11/dist-packages (from alpaca-py<1,>=0.7.2->lib-pybroker==1.2.10) (1.1.0)\n",
            "Requirement already satisfied: pydantic<3.0.0,>=2.0.3 in /usr/local/lib/python3.11/dist-packages (from alpaca-py<1,>=0.7.2->lib-pybroker==1.2.10) (2.11.4)\n",
            "Collecting sseclient-py<2.0.0,>=1.7.2 (from alpaca-py<1,>=0.7.2->lib-pybroker==1.2.10)\n",
            "  Downloading sseclient_py-1.8.0-py2.py3-none-any.whl.metadata (2.0 kB)\n",
            "Requirement already satisfied: websockets>=10.4 in /usr/local/lib/python3.11/dist-packages (from alpaca-py<1,>=0.7.2->lib-pybroker==1.2.10) (15.0.1)\n",
            "Requirement already satisfied: llvmlite<0.44,>=0.43.0dev0 in /usr/local/lib/python3.11/dist-packages (from numba<1,>=0.60.0->lib-pybroker==1.2.10) (0.43.0)\n",
            "Requirement already satisfied: python-dateutil>=2.8.2 in /usr/local/lib/python3.11/dist-packages (from pandas<3,>=2.2.0->lib-pybroker==1.2.10) (2.9.0.post0)\n",
            "Requirement already satisfied: pytz>=2020.1 in /usr/local/lib/python3.11/dist-packages (from pandas<3,>=2.2.0->lib-pybroker==1.2.10) (2025.2)\n",
            "Requirement already satisfied: tzdata>=2022.7 in /usr/local/lib/python3.11/dist-packages (from pandas<3,>=2.2.0->lib-pybroker==1.2.10) (2025.2)\n",
            "Requirement already satisfied: python-utils>=3.8.1 in /usr/local/lib/python3.11/dist-packages (from progressbar2<5,>=4.1.1->lib-pybroker==1.2.10) (3.9.1)\n",
            "Requirement already satisfied: curl-cffi>=0.10.0 in /usr/local/lib/python3.11/dist-packages (from yahooquery<3,>=2.3.7->lib-pybroker==1.2.10) (0.10.0)\n",
            "Collecting requests-futures>=1.0.1 (from yahooquery<3,>=2.3.7->lib-pybroker==1.2.10)\n",
            "  Downloading requests_futures-1.0.2-py2.py3-none-any.whl.metadata (12 kB)\n",
            "Requirement already satisfied: multitasking>=0.0.7 in /usr/local/lib/python3.11/dist-packages (from yfinance<1,>=0.2.55->lib-pybroker==1.2.10) (0.0.11)\n",
            "Requirement already satisfied: platformdirs>=2.0.0 in /usr/local/lib/python3.11/dist-packages (from yfinance<1,>=0.2.55->lib-pybroker==1.2.10) (4.3.8)\n",
            "Requirement already satisfied: frozendict>=2.3.4 in /usr/local/lib/python3.11/dist-packages (from yfinance<1,>=0.2.55->lib-pybroker==1.2.10) (2.4.6)\n",
            "Requirement already satisfied: peewee>=3.16.2 in /usr/local/lib/python3.11/dist-packages (from yfinance<1,>=0.2.55->lib-pybroker==1.2.10) (3.18.1)\n",
            "Requirement already satisfied: protobuf<6,>=5.29.0 in /usr/local/lib/python3.11/dist-packages (from yfinance<1,>=0.2.55->lib-pybroker==1.2.10) (5.29.4)\n",
            "Requirement already satisfied: aiohappyeyeballs>=2.3.0 in /usr/local/lib/python3.11/dist-packages (from aiohttp>=3.11.13->akshare<2,>=1.10.1->lib-pybroker==1.2.10) (2.6.1)\n",
            "Requirement already satisfied: aiosignal>=1.1.2 in /usr/local/lib/python3.11/dist-packages (from aiohttp>=3.11.13->akshare<2,>=1.10.1->lib-pybroker==1.2.10) (1.3.2)\n",
            "Requirement already satisfied: attrs>=17.3.0 in /usr/local/lib/python3.11/dist-packages (from aiohttp>=3.11.13->akshare<2,>=1.10.1->lib-pybroker==1.2.10) (25.3.0)\n",
            "Requirement already satisfied: frozenlist>=1.1.1 in /usr/local/lib/python3.11/dist-packages (from aiohttp>=3.11.13->akshare<2,>=1.10.1->lib-pybroker==1.2.10) (1.6.0)\n",
            "Requirement already satisfied: multidict<7.0,>=4.5 in /usr/local/lib/python3.11/dist-packages (from aiohttp>=3.11.13->akshare<2,>=1.10.1->lib-pybroker==1.2.10) (6.4.3)\n",
            "Requirement already satisfied: propcache>=0.2.0 in /usr/local/lib/python3.11/dist-packages (from aiohttp>=3.11.13->akshare<2,>=1.10.1->lib-pybroker==1.2.10) (0.3.1)\n",
            "Requirement already satisfied: yarl<2.0,>=1.17.0 in /usr/local/lib/python3.11/dist-packages (from aiohttp>=3.11.13->akshare<2,>=1.10.1->lib-pybroker==1.2.10) (1.20.0)\n",
            "\u001b[33mWARNING: akracer 0.0.13 does not provide the extra 'py-mini-racer'\u001b[0m\u001b[33m\n",
            "\u001b[0mRequirement already satisfied: soupsieve>1.2 in /usr/local/lib/python3.11/dist-packages (from beautifulsoup4>=4.9.1->akshare<2,>=1.10.1->lib-pybroker==1.2.10) (2.7)\n",
            "Requirement already satisfied: typing-extensions>=4.0.0 in /usr/local/lib/python3.11/dist-packages (from beautifulsoup4>=4.9.1->akshare<2,>=1.10.1->lib-pybroker==1.2.10) (4.13.2)\n",
            "Requirement already satisfied: cffi>=1.12.0 in /usr/local/lib/python3.11/dist-packages (from curl-cffi>=0.10.0->yahooquery<3,>=2.3.7->lib-pybroker==1.2.10) (1.17.1)\n",
            "Requirement already satisfied: certifi>=2024.2.2 in /usr/local/lib/python3.11/dist-packages (from curl-cffi>=0.10.0->yahooquery<3,>=2.3.7->lib-pybroker==1.2.10) (2025.4.26)\n",
            "Requirement already satisfied: six>=1.9 in /usr/local/lib/python3.11/dist-packages (from html5lib>=1.0.1->akshare<2,>=1.10.1->lib-pybroker==1.2.10) (1.17.0)\n",
            "Requirement already satisfied: webencodings in /usr/local/lib/python3.11/dist-packages (from html5lib>=1.0.1->akshare<2,>=1.10.1->lib-pybroker==1.2.10) (0.5.1)\n",
            "Requirement already satisfied: et-xmlfile in /usr/local/lib/python3.11/dist-packages (from openpyxl>=3.0.3->akshare<2,>=1.10.1->lib-pybroker==1.2.10) (2.0.0)\n",
            "Requirement already satisfied: annotated-types>=0.6.0 in /usr/local/lib/python3.11/dist-packages (from pydantic<3.0.0,>=2.0.3->alpaca-py<1,>=0.7.2->lib-pybroker==1.2.10) (0.7.0)\n",
            "Requirement already satisfied: pydantic-core==2.33.2 in /usr/local/lib/python3.11/dist-packages (from pydantic<3.0.0,>=2.0.3->alpaca-py<1,>=0.7.2->lib-pybroker==1.2.10) (2.33.2)\n",
            "Requirement already satisfied: typing-inspection>=0.4.0 in /usr/local/lib/python3.11/dist-packages (from pydantic<3.0.0,>=2.0.3->alpaca-py<1,>=0.7.2->lib-pybroker==1.2.10) (0.4.0)\n",
            "Requirement already satisfied: charset-normalizer<4,>=2 in /usr/local/lib/python3.11/dist-packages (from requests>=2.22.0->akshare<2,>=1.10.1->lib-pybroker==1.2.10) (3.4.2)\n",
            "Requirement already satisfied: idna<4,>=2.5 in /usr/local/lib/python3.11/dist-packages (from requests>=2.22.0->akshare<2,>=1.10.1->lib-pybroker==1.2.10) (3.10)\n",
            "Requirement already satisfied: pycparser in /usr/local/lib/python3.11/dist-packages (from cffi>=1.12.0->curl-cffi>=0.10.0->yahooquery<3,>=2.3.7->lib-pybroker==1.2.10) (2.22)\n",
            "Downloading akshare-1.16.91-py3-none-any.whl (1.1 MB)\n",
            "\u001b[2K   \u001b[90m━━━━━━━━━━━━━━━━━━━━━━━━━━━━━━━━━━━━━━━━\u001b[0m \u001b[32m1.1/1.1 MB\u001b[0m \u001b[31m15.4 MB/s\u001b[0m eta \u001b[36m0:00:00\u001b[0m\n",
            "\u001b[?25hDownloading alpaca_py-0.40.0-py3-none-any.whl (121 kB)\n",
            "\u001b[2K   \u001b[90m━━━━━━━━━━━━━━━━━━━━━━━━━━━━━━━━━━━━━━━━\u001b[0m \u001b[32m121.7/121.7 kB\u001b[0m \u001b[31m6.7 MB/s\u001b[0m eta \u001b[36m0:00:00\u001b[0m\n",
            "\u001b[?25hDownloading diskcache-5.6.3-py3-none-any.whl (45 kB)\n",
            "\u001b[2K   \u001b[90m━━━━━━━━━━━━━━━━━━━━━━━━━━━━━━━━━━━━━━━━\u001b[0m \u001b[32m45.5/45.5 kB\u001b[0m \u001b[31m2.0 MB/s\u001b[0m eta \u001b[36m0:00:00\u001b[0m\n",
            "\u001b[?25hDownloading yahooquery-2.4.0-py3-none-any.whl (50 kB)\n",
            "\u001b[2K   \u001b[90m━━━━━━━━━━━━━━━━━━━━━━━━━━━━━━━━━━━━━━━━\u001b[0m \u001b[32m50.6/50.6 kB\u001b[0m \u001b[31m2.5 MB/s\u001b[0m eta \u001b[36m0:00:00\u001b[0m\n",
            "\u001b[?25hDownloading akracer-0.0.13-py3-none-any.whl (10.1 MB)\n",
            "\u001b[2K   \u001b[90m━━━━━━━━━━━━━━━━━━━━━━━━━━━━━━━━━━━━━━━━\u001b[0m \u001b[32m10.1/10.1 MB\u001b[0m \u001b[31m89.2 MB/s\u001b[0m eta \u001b[36m0:00:00\u001b[0m\n",
            "\u001b[?25hDownloading py_mini_racer-0.6.0-py2.py3-none-manylinux1_x86_64.whl (5.4 MB)\n",
            "\u001b[2K   \u001b[90m━━━━━━━━━━━━━━━━━━━━━━━━━━━━━━━━━━━━━━━━\u001b[0m \u001b[32m5.4/5.4 MB\u001b[0m \u001b[31m73.2 MB/s\u001b[0m eta \u001b[36m0:00:00\u001b[0m\n",
            "\u001b[?25hDownloading requests_futures-1.0.2-py2.py3-none-any.whl (7.7 kB)\n",
            "Downloading sseclient_py-1.8.0-py2.py3-none-any.whl (8.8 kB)\n",
            "Building wheels for collected packages: lib-pybroker, jsonpath\n",
            "  Building wheel for lib-pybroker (pyproject.toml) ... \u001b[?25l\u001b[?25hdone\n",
            "  Created wheel for lib-pybroker: filename=lib_pybroker-1.2.10-py3-none-any.whl size=83998 sha256=9f85641ca23bcd9185c05808d618d4cd37e81fb2b862d677dab72f3f55214325\n",
            "  Stored in directory: /tmp/pip-ephem-wheel-cache-r8rksag4/wheels/cc/db/c4/ad41b36bced059a90e2c6a0449d883c24404a1d0bde02d4f35\n",
            "  Building wheel for jsonpath (setup.py) ... \u001b[?25l\u001b[?25hdone\n",
            "  Created wheel for jsonpath: filename=jsonpath-0.82.2-py3-none-any.whl size=5615 sha256=1bcb1d618abe8979e682724c5942a425ce8dafe6a1966a9579b3aba0e748846d\n",
            "  Stored in directory: /root/.cache/pip/wheels/7d/b8/16/48bbd715040679311fa68cb564ad24a97d9a67fea5d4c848c8\n",
            "Successfully built lib-pybroker jsonpath\n",
            "Installing collected packages: sseclient-py, py-mini-racer, jsonpath, diskcache, akracer, requests-futures, yahooquery, alpaca-py, akshare, lib-pybroker\n",
            "Successfully installed akracer-0.0.13 akshare-1.16.91 alpaca-py-0.40.0 diskcache-5.6.3 jsonpath-0.82.2 lib-pybroker-1.2.10 py-mini-racer-0.6.0 requests-futures-1.0.2 sseclient-py-1.8.0 yahooquery-2.4.0\n"
          ]
        }
      ]
    },
    {
      "cell_type": "code",
      "source": [
        "!pip install akshare numpy pandas"
      ],
      "metadata": {
        "colab": {
          "base_uri": "https://localhost:8080/"
        },
        "id": "UZAZLbVlPCeO",
        "outputId": "a30919d2-ef21-4a45-f672-e14a4d9217f5"
      },
      "id": "UZAZLbVlPCeO",
      "execution_count": 3,
      "outputs": [
        {
          "output_type": "stream",
          "name": "stdout",
          "text": [
            "Requirement already satisfied: akshare in /usr/local/lib/python3.11/dist-packages (1.16.91)\n",
            "Requirement already satisfied: numpy in /usr/local/lib/python3.11/dist-packages (2.0.2)\n",
            "Requirement already satisfied: pandas in /usr/local/lib/python3.11/dist-packages (2.2.2)\n",
            "Requirement already satisfied: aiohttp>=3.11.13 in /usr/local/lib/python3.11/dist-packages (from akshare) (3.11.15)\n",
            "Requirement already satisfied: beautifulsoup4>=4.9.1 in /usr/local/lib/python3.11/dist-packages (from akshare) (4.13.4)\n",
            "Requirement already satisfied: lxml>=4.2.1 in /usr/local/lib/python3.11/dist-packages (from akshare) (5.4.0)\n",
            "Requirement already satisfied: requests>=2.22.0 in /usr/local/lib/python3.11/dist-packages (from akshare) (2.32.3)\n",
            "Requirement already satisfied: html5lib>=1.0.1 in /usr/local/lib/python3.11/dist-packages (from akshare) (1.1)\n",
            "Requirement already satisfied: xlrd>=1.2.0 in /usr/local/lib/python3.11/dist-packages (from akshare) (2.0.1)\n",
            "Requirement already satisfied: urllib3>=1.25.8 in /usr/local/lib/python3.11/dist-packages (from akshare) (2.4.0)\n",
            "Requirement already satisfied: tqdm>=4.43.0 in /usr/local/lib/python3.11/dist-packages (from akshare) (4.67.1)\n",
            "Requirement already satisfied: openpyxl>=3.0.3 in /usr/local/lib/python3.11/dist-packages (from akshare) (3.1.5)\n",
            "Requirement already satisfied: jsonpath>=0.82 in /usr/local/lib/python3.11/dist-packages (from akshare) (0.82.2)\n",
            "Requirement already satisfied: tabulate>=0.8.6 in /usr/local/lib/python3.11/dist-packages (from akshare) (0.9.0)\n",
            "Requirement already satisfied: decorator>=4.4.2 in /usr/local/lib/python3.11/dist-packages (from akshare) (4.4.2)\n",
            "Requirement already satisfied: nest_asyncio>=1.6.0 in /usr/local/lib/python3.11/dist-packages (from akshare) (1.6.0)\n",
            "Requirement already satisfied: py-mini-racer>=0.6.0 in /usr/local/lib/python3.11/dist-packages (from akshare) (0.6.0)\n",
            "Requirement already satisfied: akracer>=0.0.13 in /usr/local/lib/python3.11/dist-packages (from akracer[py-mini-racer]>=0.0.13; platform_system == \"Linux\"->akshare) (0.0.13)\n",
            "Requirement already satisfied: python-dateutil>=2.8.2 in /usr/local/lib/python3.11/dist-packages (from pandas) (2.9.0.post0)\n",
            "Requirement already satisfied: pytz>=2020.1 in /usr/local/lib/python3.11/dist-packages (from pandas) (2025.2)\n",
            "Requirement already satisfied: tzdata>=2022.7 in /usr/local/lib/python3.11/dist-packages (from pandas) (2025.2)\n",
            "Requirement already satisfied: aiohappyeyeballs>=2.3.0 in /usr/local/lib/python3.11/dist-packages (from aiohttp>=3.11.13->akshare) (2.6.1)\n",
            "Requirement already satisfied: aiosignal>=1.1.2 in /usr/local/lib/python3.11/dist-packages (from aiohttp>=3.11.13->akshare) (1.3.2)\n",
            "Requirement already satisfied: attrs>=17.3.0 in /usr/local/lib/python3.11/dist-packages (from aiohttp>=3.11.13->akshare) (25.3.0)\n",
            "Requirement already satisfied: frozenlist>=1.1.1 in /usr/local/lib/python3.11/dist-packages (from aiohttp>=3.11.13->akshare) (1.6.0)\n",
            "Requirement already satisfied: multidict<7.0,>=4.5 in /usr/local/lib/python3.11/dist-packages (from aiohttp>=3.11.13->akshare) (6.4.3)\n",
            "Requirement already satisfied: propcache>=0.2.0 in /usr/local/lib/python3.11/dist-packages (from aiohttp>=3.11.13->akshare) (0.3.1)\n",
            "Requirement already satisfied: yarl<2.0,>=1.17.0 in /usr/local/lib/python3.11/dist-packages (from aiohttp>=3.11.13->akshare) (1.20.0)\n",
            "\u001b[33mWARNING: akracer 0.0.13 does not provide the extra 'py-mini-racer'\u001b[0m\u001b[33m\n",
            "\u001b[0mRequirement already satisfied: soupsieve>1.2 in /usr/local/lib/python3.11/dist-packages (from beautifulsoup4>=4.9.1->akshare) (2.7)\n",
            "Requirement already satisfied: typing-extensions>=4.0.0 in /usr/local/lib/python3.11/dist-packages (from beautifulsoup4>=4.9.1->akshare) (4.13.2)\n",
            "Requirement already satisfied: six>=1.9 in /usr/local/lib/python3.11/dist-packages (from html5lib>=1.0.1->akshare) (1.17.0)\n",
            "Requirement already satisfied: webencodings in /usr/local/lib/python3.11/dist-packages (from html5lib>=1.0.1->akshare) (0.5.1)\n",
            "Requirement already satisfied: et-xmlfile in /usr/local/lib/python3.11/dist-packages (from openpyxl>=3.0.3->akshare) (2.0.0)\n",
            "Requirement already satisfied: charset-normalizer<4,>=2 in /usr/local/lib/python3.11/dist-packages (from requests>=2.22.0->akshare) (3.4.2)\n",
            "Requirement already satisfied: idna<4,>=2.5 in /usr/local/lib/python3.11/dist-packages (from requests>=2.22.0->akshare) (3.10)\n",
            "Requirement already satisfied: certifi>=2017.4.17 in /usr/local/lib/python3.11/dist-packages (from requests>=2.22.0->akshare) (2025.4.26)\n"
          ]
        }
      ]
    },
    {
      "cell_type": "code",
      "source": [
        "import pybroker\n",
        "print(pybroker.__version__)  # 若无版本号，说明安装可能有问题"
      ],
      "metadata": {
        "id": "U-79yjdiwOtn",
        "outputId": "e6eb909e-7ae9-49f5-b0cb-ddd5518431d3",
        "colab": {
          "base_uri": "https://localhost:8080/"
        }
      },
      "id": "U-79yjdiwOtn",
      "execution_count": 6,
      "outputs": [
        {
          "output_type": "stream",
          "name": "stdout",
          "text": [
            "1.2.10\n"
          ]
        }
      ]
    },
    {
      "cell_type": "code",
      "source": [
        "!python --version"
      ],
      "metadata": {
        "id": "Dq-eTgLjwaEq",
        "outputId": "0a1afbdd-d576-46e6-db95-221fe4771041",
        "colab": {
          "base_uri": "https://localhost:8080/"
        }
      },
      "id": "Dq-eTgLjwaEq",
      "execution_count": 7,
      "outputs": [
        {
          "output_type": "stream",
          "name": "stdout",
          "text": [
            "Python 3.11.12\n"
          ]
        }
      ]
    },
    {
      "cell_type": "code",
      "source": [
        "from pybroker import Strategy, StrategyConfig\n",
        "from pybroker.ext.data import AKShare\n",
        "import pandas as pd\n",
        "\n",
        "# 策略逻辑：收盘价上穿/下穿5日均线\n",
        "def handle_data(ctx):\n",
        "    symbol = ctx.symbol\n",
        "    close = ctx.close\n",
        "\n",
        "    if len(close) < 6:\n",
        "        return\n",
        "\n",
        "    # 使用 Pandas 计算 5 日均线\n",
        "    ma5_series = pd.Series(close).rolling(window=5).mean()\n",
        "    ma5 = ma5_series.values\n",
        "\n",
        "    # 获取持仓情况（注意 pos_type 应为 \"long\"）\n",
        "    position = ctx.pos(symbol, \"long\")\n",
        "    has_position = position and position.shares > 0\n",
        "\n",
        "    # 上穿5日均线，买入\n",
        "    if close[-1] > ma5[-1] and close[-2] <= ma5[-2]:\n",
        "        if not has_position:\n",
        "            ctx.buy_shares = 100\n",
        "\n",
        "    # 下穿5日均线，卖出\n",
        "    elif close[-1] < ma5[-1] and close[-2] >= ma5[-2]:\n",
        "        if has_position:\n",
        "            ctx.sell_all_shares()\n",
        "\n",
        "# 初始化数据源\n",
        "data_source = AKShare()\n",
        "\n",
        "# 创建策略对象\n",
        "strategy = Strategy(\n",
        "    data_source,\n",
        "    start_date=\"2023-01-01\",\n",
        "    end_date=\"2023-12-31\",\n",
        "    config=StrategyConfig(initial_cash=20000)\n",
        ")\n",
        "\n",
        "# 添加策略逻辑\n",
        "strategy.add_execution(handle_data, symbols=[\"601318.SH\"])  # 中国平安（上交所代码）\n",
        "\n",
        "# 执行回测\n",
        "result = strategy.backtest()\n",
        "\n",
        "# 输出结果\n",
        "print(\"总收益:\", result.)\n",
        "print(\"交易记录:\\n\", result.trades)\n"
      ],
      "metadata": {
        "id": "DCL6KsAUOl7y",
        "outputId": "a37146e3-8ae9-4a20-ae9c-5e869199a087",
        "colab": {
          "base_uri": "https://localhost:8080/",
          "height": 364
        }
      },
      "id": "DCL6KsAUOl7y",
      "execution_count": 21,
      "outputs": [
        {
          "output_type": "stream",
          "name": "stdout",
          "text": [
            "Backtesting: 2023-01-01 00:00:00 to 2023-12-31 00:00:00\n",
            "\n",
            "Loading bar data...\n",
            "Loaded bar data: 0:00:01 \n",
            "\n",
            "Test split: 2023-01-03 00:00:00 to 2023-12-29 00:00:00\n"
          ]
        },
        {
          "output_type": "stream",
          "name": "stderr",
          "text": [
            "\u001b[38;2;0;255;0m100%\u001b[39m \u001b[38;2;0;255;0m(242 of 242)\u001b[39m |######################| Elapsed Time: 0:00:00 Time:  0:00:00\n"
          ]
        },
        {
          "output_type": "stream",
          "name": "stdout",
          "text": [
            "\n",
            "Finished backtest: 0:00:08\n"
          ]
        },
        {
          "output_type": "error",
          "ename": "AttributeError",
          "evalue": "'TestResult' object has no attribute 'total_pnl'",
          "traceback": [
            "\u001b[0;31m---------------------------------------------------------------------------\u001b[0m",
            "\u001b[0;31mAttributeError\u001b[0m                            Traceback (most recent call last)",
            "\u001b[0;32m<ipython-input-21-adcbf407116e>\u001b[0m in \u001b[0;36m<cell line: 0>\u001b[0;34m()\u001b[0m\n\u001b[1;32m     47\u001b[0m \u001b[0;34m\u001b[0m\u001b[0m\n\u001b[1;32m     48\u001b[0m \u001b[0;31m# 输出结果\u001b[0m\u001b[0;34m\u001b[0m\u001b[0;34m\u001b[0m\u001b[0m\n\u001b[0;32m---> 49\u001b[0;31m \u001b[0mprint\u001b[0m\u001b[0;34m(\u001b[0m\u001b[0;34m\"总收益:\"\u001b[0m\u001b[0;34m,\u001b[0m \u001b[0mresult\u001b[0m\u001b[0;34m.\u001b[0m\u001b[0mtotal_pnl\u001b[0m\u001b[0;34m)\u001b[0m\u001b[0;34m\u001b[0m\u001b[0;34m\u001b[0m\u001b[0m\n\u001b[0m\u001b[1;32m     50\u001b[0m \u001b[0mprint\u001b[0m\u001b[0;34m(\u001b[0m\u001b[0;34m\"交易记录:\\n\"\u001b[0m\u001b[0;34m,\u001b[0m \u001b[0mresult\u001b[0m\u001b[0;34m.\u001b[0m\u001b[0mtrades\u001b[0m\u001b[0;34m)\u001b[0m\u001b[0;34m\u001b[0m\u001b[0;34m\u001b[0m\u001b[0m\n",
            "\u001b[0;31mAttributeError\u001b[0m: 'TestResult' object has no attribute 'total_pnl'"
          ]
        }
      ]
    }
  ],
  "metadata": {
    "colab": {
      "provenance": []
    },
    "language_info": {
      "name": "python"
    },
    "kernelspec": {
      "name": "python3",
      "display_name": "Python 3"
    }
  },
  "nbformat": 4,
  "nbformat_minor": 5
}