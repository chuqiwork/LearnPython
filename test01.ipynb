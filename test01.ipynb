{
 "cells": [
  {
   "cell_type": "markdown",
   "id": "6f293ebd",
   "metadata": {},
   "source": [
    "# 简单的 Python Notebook\n",
    "这是一个示例 Jupyter Notebook 文件。"
   ]
  },
  {
   "cell_type": "markdown",
   "id": "cd54e4b4",
   "metadata": {},
   "source": [
    "## 示例：打印 Hello, World!"
   ]
  },
  {
   "cell_type": "code",
   "execution_count": null,
   "id": "cd6cfe0e",
   "metadata": {},
   "outputs": [],
   "source": [
    "print('Hello, World!')"
   ]
  },
  {
   "cell_type": "markdown",
   "id": "ad825244",
   "metadata": {},
   "source": [
    "## 示例：计算平方"
   ]
  },
  {
   "cell_type": "code",
   "execution_count": null,
   "id": "23e2f74a",
   "metadata": {},
   "outputs": [],
   "source": [
    "def square(x):\n",
    "    return x * x\n",
    "\n",
    "square(5)"
   ]
  }
 ],
 "metadata": {},
 "nbformat": 4,
 "nbformat_minor": 5
}
